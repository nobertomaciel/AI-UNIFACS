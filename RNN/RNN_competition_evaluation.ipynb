{
  "nbformat": 4,
  "nbformat_minor": 0,
  "metadata": {
    "colab": {
      "provenance": []
    },
    "kernelspec": {
      "name": "python3",
      "display_name": "Python 3"
    },
    "language_info": {
      "name": "python"
    }
  },
  "cells": [
    {
      "cell_type": "code",
      "execution_count": 15,
      "metadata": {
        "id": "MTdggz6gO06y"
      },
      "outputs": [],
      "source": [
        "import pickle\n",
        "import numpy as np\n",
        "from google.colab import files\n",
        "from tensorflow.keras.models import load_model\n",
        "from tensorflow.keras.preprocessing.sequence import pad_sequences"
      ]
    },
    {
      "cell_type": "code",
      "source": [
        "# Fazer o upload do arquivo treinado\n",
        "uploaded = files.upload()"
      ],
      "metadata": {
        "colab": {
          "base_uri": "https://localhost:8080/",
          "height": 108
        },
        "id": "VNM_CKeEvdWe",
        "outputId": "6f5c2b3a-372a-4969-a973-9684034c0761"
      },
      "execution_count": 16,
      "outputs": [
        {
          "output_type": "display_data",
          "data": {
            "text/plain": [
              "<IPython.core.display.HTML object>"
            ],
            "text/html": [
              "\n",
              "     <input type=\"file\" id=\"files-2b430a3d-7fb4-49b6-9e72-a9467ae74127\" name=\"files[]\" multiple disabled\n",
              "        style=\"border:none\" />\n",
              "     <output id=\"result-2b430a3d-7fb4-49b6-9e72-a9467ae74127\">\n",
              "      Upload widget is only available when the cell has been executed in the\n",
              "      current browser session. Please rerun this cell to enable.\n",
              "      </output>\n",
              "      <script>// Copyright 2017 Google LLC\n",
              "//\n",
              "// Licensed under the Apache License, Version 2.0 (the \"License\");\n",
              "// you may not use this file except in compliance with the License.\n",
              "// You may obtain a copy of the License at\n",
              "//\n",
              "//      http://www.apache.org/licenses/LICENSE-2.0\n",
              "//\n",
              "// Unless required by applicable law or agreed to in writing, software\n",
              "// distributed under the License is distributed on an \"AS IS\" BASIS,\n",
              "// WITHOUT WARRANTIES OR CONDITIONS OF ANY KIND, either express or implied.\n",
              "// See the License for the specific language governing permissions and\n",
              "// limitations under the License.\n",
              "\n",
              "/**\n",
              " * @fileoverview Helpers for google.colab Python module.\n",
              " */\n",
              "(function(scope) {\n",
              "function span(text, styleAttributes = {}) {\n",
              "  const element = document.createElement('span');\n",
              "  element.textContent = text;\n",
              "  for (const key of Object.keys(styleAttributes)) {\n",
              "    element.style[key] = styleAttributes[key];\n",
              "  }\n",
              "  return element;\n",
              "}\n",
              "\n",
              "// Max number of bytes which will be uploaded at a time.\n",
              "const MAX_PAYLOAD_SIZE = 100 * 1024;\n",
              "\n",
              "function _uploadFiles(inputId, outputId) {\n",
              "  const steps = uploadFilesStep(inputId, outputId);\n",
              "  const outputElement = document.getElementById(outputId);\n",
              "  // Cache steps on the outputElement to make it available for the next call\n",
              "  // to uploadFilesContinue from Python.\n",
              "  outputElement.steps = steps;\n",
              "\n",
              "  return _uploadFilesContinue(outputId);\n",
              "}\n",
              "\n",
              "// This is roughly an async generator (not supported in the browser yet),\n",
              "// where there are multiple asynchronous steps and the Python side is going\n",
              "// to poll for completion of each step.\n",
              "// This uses a Promise to block the python side on completion of each step,\n",
              "// then passes the result of the previous step as the input to the next step.\n",
              "function _uploadFilesContinue(outputId) {\n",
              "  const outputElement = document.getElementById(outputId);\n",
              "  const steps = outputElement.steps;\n",
              "\n",
              "  const next = steps.next(outputElement.lastPromiseValue);\n",
              "  return Promise.resolve(next.value.promise).then((value) => {\n",
              "    // Cache the last promise value to make it available to the next\n",
              "    // step of the generator.\n",
              "    outputElement.lastPromiseValue = value;\n",
              "    return next.value.response;\n",
              "  });\n",
              "}\n",
              "\n",
              "/**\n",
              " * Generator function which is called between each async step of the upload\n",
              " * process.\n",
              " * @param {string} inputId Element ID of the input file picker element.\n",
              " * @param {string} outputId Element ID of the output display.\n",
              " * @return {!Iterable<!Object>} Iterable of next steps.\n",
              " */\n",
              "function* uploadFilesStep(inputId, outputId) {\n",
              "  const inputElement = document.getElementById(inputId);\n",
              "  inputElement.disabled = false;\n",
              "\n",
              "  const outputElement = document.getElementById(outputId);\n",
              "  outputElement.innerHTML = '';\n",
              "\n",
              "  const pickedPromise = new Promise((resolve) => {\n",
              "    inputElement.addEventListener('change', (e) => {\n",
              "      resolve(e.target.files);\n",
              "    });\n",
              "  });\n",
              "\n",
              "  const cancel = document.createElement('button');\n",
              "  inputElement.parentElement.appendChild(cancel);\n",
              "  cancel.textContent = 'Cancel upload';\n",
              "  const cancelPromise = new Promise((resolve) => {\n",
              "    cancel.onclick = () => {\n",
              "      resolve(null);\n",
              "    };\n",
              "  });\n",
              "\n",
              "  // Wait for the user to pick the files.\n",
              "  const files = yield {\n",
              "    promise: Promise.race([pickedPromise, cancelPromise]),\n",
              "    response: {\n",
              "      action: 'starting',\n",
              "    }\n",
              "  };\n",
              "\n",
              "  cancel.remove();\n",
              "\n",
              "  // Disable the input element since further picks are not allowed.\n",
              "  inputElement.disabled = true;\n",
              "\n",
              "  if (!files) {\n",
              "    return {\n",
              "      response: {\n",
              "        action: 'complete',\n",
              "      }\n",
              "    };\n",
              "  }\n",
              "\n",
              "  for (const file of files) {\n",
              "    const li = document.createElement('li');\n",
              "    li.append(span(file.name, {fontWeight: 'bold'}));\n",
              "    li.append(span(\n",
              "        `(${file.type || 'n/a'}) - ${file.size} bytes, ` +\n",
              "        `last modified: ${\n",
              "            file.lastModifiedDate ? file.lastModifiedDate.toLocaleDateString() :\n",
              "                                    'n/a'} - `));\n",
              "    const percent = span('0% done');\n",
              "    li.appendChild(percent);\n",
              "\n",
              "    outputElement.appendChild(li);\n",
              "\n",
              "    const fileDataPromise = new Promise((resolve) => {\n",
              "      const reader = new FileReader();\n",
              "      reader.onload = (e) => {\n",
              "        resolve(e.target.result);\n",
              "      };\n",
              "      reader.readAsArrayBuffer(file);\n",
              "    });\n",
              "    // Wait for the data to be ready.\n",
              "    let fileData = yield {\n",
              "      promise: fileDataPromise,\n",
              "      response: {\n",
              "        action: 'continue',\n",
              "      }\n",
              "    };\n",
              "\n",
              "    // Use a chunked sending to avoid message size limits. See b/62115660.\n",
              "    let position = 0;\n",
              "    do {\n",
              "      const length = Math.min(fileData.byteLength - position, MAX_PAYLOAD_SIZE);\n",
              "      const chunk = new Uint8Array(fileData, position, length);\n",
              "      position += length;\n",
              "\n",
              "      const base64 = btoa(String.fromCharCode.apply(null, chunk));\n",
              "      yield {\n",
              "        response: {\n",
              "          action: 'append',\n",
              "          file: file.name,\n",
              "          data: base64,\n",
              "        },\n",
              "      };\n",
              "\n",
              "      let percentDone = fileData.byteLength === 0 ?\n",
              "          100 :\n",
              "          Math.round((position / fileData.byteLength) * 100);\n",
              "      percent.textContent = `${percentDone}% done`;\n",
              "\n",
              "    } while (position < fileData.byteLength);\n",
              "  }\n",
              "\n",
              "  // All done.\n",
              "  yield {\n",
              "    response: {\n",
              "      action: 'complete',\n",
              "    }\n",
              "  };\n",
              "}\n",
              "\n",
              "scope.google = scope.google || {};\n",
              "scope.google.colab = scope.google.colab || {};\n",
              "scope.google.colab._files = {\n",
              "  _uploadFiles,\n",
              "  _uploadFilesContinue,\n",
              "};\n",
              "})(self);\n",
              "</script> "
            ]
          },
          "metadata": {}
        },
        {
          "output_type": "stream",
          "name": "stdout",
          "text": [
            "Saving tokenizer.pkl to tokenizer.pkl\n",
            "Saving nome_do_grupo_RNN.keras to nome_do_grupo_RNN (2).keras\n"
          ]
        }
      ]
    },
    {
      "cell_type": "code",
      "source": [
        "# Carregar o modelo treinado\n",
        "model = load_model(\"nome_do_grupo_RNN.keras\")"
      ],
      "metadata": {
        "id": "DeM42cSzvo6_"
      },
      "execution_count": 17,
      "outputs": []
    },
    {
      "cell_type": "code",
      "source": [
        "# Carregar o tokenizer\n",
        "with open('nome_do_grupo_tokenizer_RNN.pkl', 'rb') as f:\n",
        "    tokenizer = pickle.load(f)\n",
        "\n",
        "total_palavras = len(tokenizer.word_index) + 1\n",
        "max_seq_len = model.input_shape[1]"
      ],
      "metadata": {
        "id": "tcPOo5dcO_QG"
      },
      "execution_count": 18,
      "outputs": []
    },
    {
      "cell_type": "code",
      "source": [
        "# Função de autocompletar\n",
        "def autocompletar_texto(seed_text, n_palavras):\n",
        "    for _ in range(n_palavras):\n",
        "        tokens = tokenizer.texts_to_sequences([seed_text])[0]\n",
        "        tokens_padded = pad_sequences([tokens], maxlen=max_seq_len, padding='pre')\n",
        "        predicted = np.argmax(model.predict(tokens_padded, verbose=0), axis=-1)\n",
        "\n",
        "        output_word = ''\n",
        "        for word, index in tokenizer.word_index.items():\n",
        "            if index == predicted:\n",
        "                output_word = word\n",
        "                break\n",
        "        if output_word == '':\n",
        "            break\n",
        "        seed_text += ' ' + output_word\n",
        "    return seed_text"
      ],
      "metadata": {
        "id": "FOOyBwS3wyki"
      },
      "execution_count": 19,
      "outputs": []
    },
    {
      "cell_type": "code",
      "source": [
        "# Frases para avaliação\n",
        "frases_para_avaliar = [\n",
        "    \"eu gosto\",\n",
        "    \"ela gosta\",\n",
        "    \"ele gosta\",\n",
        "    \"nós gostamos\",\n",
        "    \"vocês gostam\",\n",
        "    \"o gato está em\"\n",
        "]"
      ],
      "metadata": {
        "id": "Q0MuYPFNw7gy"
      },
      "execution_count": 28,
      "outputs": []
    },
    {
      "cell_type": "code",
      "source": [
        "# Gabarito esperado\n",
        "continuacoes_corretas = [\n",
        "    \"de programar\",\n",
        "    \"de correr\",\n",
        "    \"de jogar futebol\",\n",
        "    \"de estudar\",\n",
        "    \"de viajar\",\n",
        "    \"cima do muro\"\n",
        "]"
      ],
      "metadata": {
        "id": "cyPr4EWu3FFV"
      },
      "execution_count": 33,
      "outputs": []
    },
    {
      "cell_type": "code",
      "source": [
        "# Avaliação: autocompletando 3 palavras\n",
        "# Função de avaliação com cálculo de acurácia\n",
        "total_palavras = 0\n",
        "total_acertos = 0\n",
        "\n",
        "for frase, gabarito in zip(frases_para_avaliar, continuacoes_corretas):\n",
        "    completada = autocompletar_texto(frase, n_palavras=3)\n",
        "    print(f'Entrada: \"{frase}\" -> Autocompletada: \"{completada}\"')\n",
        "\n",
        "    # Extraindo apenas a parte completada\n",
        "    completada_palavras = completada.split()[len(frase.split()):]  # pega só as palavras que foram completadas\n",
        "    gabarito_palavras = gabarito.split()\n",
        "\n",
        "    # Comparando\n",
        "    acertos = sum([pred == real for pred, real in zip(completada_palavras, gabarito_palavras)])\n",
        "\n",
        "    total_palavras += len(gabarito_palavras)\n",
        "    total_acertos += acertos\n",
        "\n",
        "    # Acurácia por frase\n",
        "    acuracia_frase = acertos / len(gabarito_palavras)\n",
        "    print(f'Gabarito: \"{gabarito}\" -> Acurácia: {acuracia_frase:.2f}\\n')\n",
        "\n",
        "# Acurácia total\n",
        "acuracia_total = (total_acertos / total_palavras)*100\n",
        "print(f'\\nAcurácia total: {acuracia_total:.2f}%')"
      ],
      "metadata": {
        "colab": {
          "base_uri": "https://localhost:8080/"
        },
        "id": "EL8d0OSrw9SK",
        "outputId": "00cb0c49-6b92-4fbc-981d-87d8462d898b"
      },
      "execution_count": 34,
      "outputs": [
        {
          "output_type": "stream",
          "name": "stdout",
          "text": [
            "Entrada: \"eu gosto\" -> Autocompletada: \"eu gosto gato gato está\"\n",
            "Gabarito: \"de programar\" -> Acurácia: 0.00\n",
            "\n",
            "Entrada: \"ela gosta\" -> Autocompletada: \"ela gosta gato gato está\"\n",
            "Gabarito: \"de correr\" -> Acurácia: 0.00\n",
            "\n",
            "Entrada: \"ele gosta\" -> Autocompletada: \"ele gosta gato gato está\"\n",
            "Gabarito: \"de jogar futebol\" -> Acurácia: 0.00\n",
            "\n",
            "Entrada: \"nós gostamos\" -> Autocompletada: \"nós gostamos gato gato está\"\n",
            "Gabarito: \"de estudar\" -> Acurácia: 0.00\n",
            "\n",
            "Entrada: \"vocês gostam\" -> Autocompletada: \"vocês gostam gato gato está\"\n",
            "Gabarito: \"de viajar\" -> Acurácia: 0.00\n",
            "\n",
            "Entrada: \"o gato está em\" -> Autocompletada: \"o gato está em cima do muro\"\n",
            "Gabarito: \"cima do muro\" -> Acurácia: 1.00\n",
            "\n",
            "\n",
            "Acurácia total: 21.43%\n"
          ]
        }
      ]
    }
  ]
}