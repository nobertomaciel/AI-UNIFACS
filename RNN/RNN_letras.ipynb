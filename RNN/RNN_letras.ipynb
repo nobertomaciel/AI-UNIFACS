{
  "nbformat": 4,
  "nbformat_minor": 0,
  "metadata": {
    "colab": {
      "provenance": []
    },
    "kernelspec": {
      "name": "python3",
      "display_name": "Python 3"
    },
    "language_info": {
      "name": "python"
    }
  },
  "cells": [
    {
      "cell_type": "code",
      "execution_count": 1,
      "metadata": {
        "id": "fWuBfJNrPyil"
      },
      "outputs": [],
      "source": [
        "import numpy as np\n",
        "from tensorflow.keras.models import Sequential\n",
        "from tensorflow.keras.layers import SimpleRNN, Dense\n",
        "from tensorflow.keras.utils import to_categorical"
      ]
    },
    {
      "cell_type": "code",
      "source": [
        "# Texto de exemplo\n",
        "texto = \"maçã\""
      ],
      "metadata": {
        "id": "8vONhal4P3Q_"
      },
      "execution_count": 2,
      "outputs": []
    },
    {
      "cell_type": "code",
      "source": [
        "# Conjunto de caracteres únicos\n",
        "chars = sorted(list(set(texto)))\n",
        "char_to_idx = {c: i for i, c in enumerate(chars)}\n",
        "idx_to_char = {i: c for c, i in char_to_idx.items()}"
      ],
      "metadata": {
        "id": "iF4DwGosP5KF"
      },
      "execution_count": 3,
      "outputs": []
    },
    {
      "cell_type": "code",
      "source": [
        "# Preparar os pares (entrada -> saída)\n",
        "X = []\n",
        "y = []\n",
        "for i in range(len(texto) - 1):\n",
        "    X.append(char_to_idx[texto[i]])\n",
        "    y.append(char_to_idx[texto[i+1]])"
      ],
      "metadata": {
        "id": "qRsRffMpP7EZ"
      },
      "execution_count": 4,
      "outputs": []
    },
    {
      "cell_type": "code",
      "source": [
        "# Converter para one-hot\n",
        "X = to_categorical(X, num_classes=len(chars))\n",
        "y = to_categorical(y, num_classes=len(chars))"
      ],
      "metadata": {
        "id": "zKp03D2kP83v"
      },
      "execution_count": 5,
      "outputs": []
    },
    {
      "cell_type": "code",
      "source": [
        "# Redimensionar para (amostras, time_steps, features)\n",
        "X = np.reshape(X, (X.shape[0], 1, X.shape[1]))"
      ],
      "metadata": {
        "id": "m0Bvt9_DP_DF"
      },
      "execution_count": 6,
      "outputs": []
    },
    {
      "cell_type": "code",
      "source": [
        "# Criar o modelo RNN\n",
        "model = Sequential()\n",
        "model.add(SimpleRNN(16, input_shape=(1, len(chars))))\n",
        "model.add(Dense(len(chars), activation='softmax'))\n",
        "model.compile(loss='categorical_crossentropy', optimizer='adam', metrics=['accuracy'])"
      ],
      "metadata": {
        "colab": {
          "base_uri": "https://localhost:8080/"
        },
        "id": "S2E06sLiQAye",
        "outputId": "d54b7f81-8b96-46b0-fe64-f7e541f734af"
      },
      "execution_count": 7,
      "outputs": [
        {
          "output_type": "stream",
          "name": "stderr",
          "text": [
            "/usr/local/lib/python3.11/dist-packages/keras/src/layers/rnn/rnn.py:200: UserWarning: Do not pass an `input_shape`/`input_dim` argument to a layer. When using Sequential models, prefer using an `Input(shape)` object as the first layer in the model instead.\n",
            "  super().__init__(**kwargs)\n"
          ]
        }
      ]
    },
    {
      "cell_type": "code",
      "source": [
        "# Treinar\n",
        "model.fit(X, y, epochs=300, verbose=0)"
      ],
      "metadata": {
        "colab": {
          "base_uri": "https://localhost:8080/"
        },
        "id": "EQO-tePgQC48",
        "outputId": "3c290622-5458-4b99-8cfc-7c46cf246d84"
      },
      "execution_count": 8,
      "outputs": [
        {
          "output_type": "execute_result",
          "data": {
            "text/plain": [
              "<keras.src.callbacks.history.History at 0x7b7c1fbf6110>"
            ]
          },
          "metadata": {},
          "execution_count": 8
        }
      ]
    },
    {
      "cell_type": "code",
      "source": [
        "# Fazer previsões\n",
        "def prever_proximo(texto_inicial):\n",
        "    x = to_categorical([char_to_idx[texto_inicial[-1]]], num_classes=len(chars))\n",
        "    x = np.reshape(x, (1, 1, len(chars)))\n",
        "    pred = model.predict(x, verbose=0)\n",
        "    idx = np.argmax(pred)\n",
        "    return idx_to_char[idx]"
      ],
      "metadata": {
        "id": "ucEFaC7kQEt-"
      },
      "execution_count": 9,
      "outputs": []
    },
    {
      "cell_type": "code",
      "source": [
        "# Testar\n",
        "entrada = \"ç\"\n",
        "saida = prever_proximo(entrada)\n",
        "print(f\"Próximo caractere depois de '{entrada}': '{saida}'\")"
      ],
      "metadata": {
        "colab": {
          "base_uri": "https://localhost:8080/"
        },
        "id": "nylP2SzmQF6V",
        "outputId": "82d143aa-83e1-4e92-dc63-40ec5d8407c0"
      },
      "execution_count": 10,
      "outputs": [
        {
          "output_type": "stream",
          "name": "stdout",
          "text": [
            "Próximo caractere depois de 'ç': 'ã'\n"
          ]
        }
      ]
    }
  ]
}