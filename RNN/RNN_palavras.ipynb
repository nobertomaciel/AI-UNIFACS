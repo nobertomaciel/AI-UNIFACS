{
  "nbformat": 4,
  "nbformat_minor": 0,
  "metadata": {
    "colab": {
      "provenance": []
    },
    "kernelspec": {
      "name": "python3",
      "display_name": "Python 3"
    },
    "language_info": {
      "name": "python"
    }
  },
  "cells": [
    {
      "cell_type": "code",
      "execution_count": 1,
      "metadata": {
        "id": "MTdggz6gO06y"
      },
      "outputs": [],
      "source": [
        "import numpy as np\n",
        "from tensorflow.keras.preprocessing.text import Tokenizer\n",
        "from tensorflow.keras.utils import to_categorical\n",
        "from tensorflow.keras.models import Sequential\n",
        "from tensorflow.keras.layers import SimpleRNN, Embedding, Dense\n",
        "from tensorflow.keras.preprocessing.sequence import pad_sequences"
      ]
    },
    {
      "cell_type": "code",
      "source": [
        "# Texto base\n",
        "frase = \"o gato está em cima\""
      ],
      "metadata": {
        "id": "wzF7sWWbO6Gc"
      },
      "execution_count": 2,
      "outputs": []
    },
    {
      "cell_type": "code",
      "source": [
        "# Tokenização\n",
        "tokenizer = Tokenizer()\n",
        "tokenizer.fit_on_texts([frase])\n",
        "sequences = tokenizer.texts_to_sequences([frase])[0]\n",
        "vocab_size = len(tokenizer.word_index) + 1  # +1 para o índice 0"
      ],
      "metadata": {
        "id": "tcPOo5dcO_QG"
      },
      "execution_count": 3,
      "outputs": []
    },
    {
      "cell_type": "code",
      "source": [
        "# Criar pares (entrada -> próxima palavra)\n",
        "X = []\n",
        "y = []\n",
        "for i in range(1, len(sequences)):\n",
        "    X.append(sequences[:i])\n",
        "    y.append(sequences[i])"
      ],
      "metadata": {
        "id": "3Wtg0UaxPCHk"
      },
      "execution_count": 4,
      "outputs": []
    },
    {
      "cell_type": "code",
      "source": [
        "# Padronizar tamanhos das sequências (preenchendo com 0 à esquerda)\n",
        "X = pad_sequences(X, maxlen=max([len(seq) for seq in X]), padding='pre')\n",
        "y = to_categorical(y, num_classes=vocab_size)"
      ],
      "metadata": {
        "id": "eH_vD-7JPEQM"
      },
      "execution_count": 5,
      "outputs": []
    },
    {
      "cell_type": "code",
      "source": [
        "# Criar o modelo\n",
        "model = Sequential()\n",
        "model.add(Embedding(input_dim=vocab_size, output_dim=10, input_length=X.shape[1]))\n",
        "model.add(SimpleRNN(32))\n",
        "model.add(Dense(vocab_size, activation='softmax'))\n",
        "model.compile(loss='categorical_crossentropy', optimizer='adam', metrics=['accuracy'])"
      ],
      "metadata": {
        "colab": {
          "base_uri": "https://localhost:8080/"
        },
        "id": "1dcDkXygPHTG",
        "outputId": "14efceca-66ae-4bff-cb6d-6a5593fe0264"
      },
      "execution_count": 6,
      "outputs": [
        {
          "output_type": "stream",
          "name": "stderr",
          "text": [
            "/usr/local/lib/python3.11/dist-packages/keras/src/layers/core/embedding.py:90: UserWarning: Argument `input_length` is deprecated. Just remove it.\n",
            "  warnings.warn(\n"
          ]
        }
      ]
    },
    {
      "cell_type": "code",
      "source": [
        "# Treinar\n",
        "model.fit(X, y, epochs=300, verbose=0)"
      ],
      "metadata": {
        "colab": {
          "base_uri": "https://localhost:8080/"
        },
        "id": "Vke12g6TPMPE",
        "outputId": "8feb67bc-847c-4922-895f-dec90de87c7c"
      },
      "execution_count": 7,
      "outputs": [
        {
          "output_type": "execute_result",
          "data": {
            "text/plain": [
              "<keras.src.callbacks.history.History at 0x7b5c04496d90>"
            ]
          },
          "metadata": {},
          "execution_count": 7
        }
      ]
    },
    {
      "cell_type": "code",
      "source": [
        "# Função para prever a próxima palavra\n",
        "def prever_proxima(palavras):\n",
        "    seq = tokenizer.texts_to_sequences([palavras])[0]\n",
        "    seq = pad_sequences([seq], maxlen=X.shape[1], padding='pre')\n",
        "    pred = model.predict(seq, verbose=0)\n",
        "    idx = np.argmax(pred)\n",
        "    for palavra, i in tokenizer.word_index.items():\n",
        "        if i == idx:\n",
        "            return palavra\n",
        "    return \"?\""
      ],
      "metadata": {
        "id": "tfB5dPCIPOhg"
      },
      "execution_count": 8,
      "outputs": []
    },
    {
      "cell_type": "code",
      "source": [
        "# Testar\n",
        "entrada = \"o gato está em \"\n",
        "proxima = prever_proxima(entrada)\n",
        "print(f\"Próxima palavra depois de '{entrada}': '{proxima}'\")"
      ],
      "metadata": {
        "colab": {
          "base_uri": "https://localhost:8080/"
        },
        "id": "Ae_uC4bDPQZL",
        "outputId": "82d63c62-0d92-41f4-f703-a4c3a07a7eb0"
      },
      "execution_count": 14,
      "outputs": [
        {
          "output_type": "stream",
          "name": "stdout",
          "text": [
            "Próxima palavra depois de 'o gato está em ': 'cima'\n"
          ]
        }
      ]
    }
  ]
}