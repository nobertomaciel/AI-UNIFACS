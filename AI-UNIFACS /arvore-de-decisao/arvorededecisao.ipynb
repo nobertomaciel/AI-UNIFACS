{
  "nbformat": 4,
  "nbformat_minor": 0,
  "metadata": {
    "colab": {
      "provenance": [],
      "authorship_tag": "ABX9TyPeUMsDYf4AY3nvCc7sNefL",
      "include_colab_link": true
    },
    "kernelspec": {
      "name": "python3",
      "display_name": "Python 3"
    },
    "language_info": {
      "name": "python"
    }
  },
  "cells": [
    {
      "cell_type": "markdown",
      "metadata": {
        "id": "view-in-github",
        "colab_type": "text"
      },
      "source": [
        "<a href=\"https://colab.research.google.com/github/nobertomaciel/AI-UNIFACS/blob/main/AI-UNIFACS%20/arvore-de-decisao/arvorededecisao.ipynb\" target=\"_parent\"><img src=\"https://colab.research.google.com/assets/colab-badge.svg\" alt=\"Open In Colab\"/></a>"
      ]
    },
    {
      "cell_type": "code",
      "source": [
        "# algoritmo: árvore de decisão (até cálculo do GI)\n",
        "# desenvolvedor: Noberto Pires Maciel\n",
        "# data: 28/02/2025\n",
        "\n",
        "# criar a estrutura de dados com base na tabela:\n",
        "#----------------------------------------\n",
        "# |Tempo\t    |Temperatura |Joga Tênis? |\n",
        "#----------------------------------------\n",
        "# |Ensolarado |\tQuente     |\tNão       |\n",
        "# |Chuvoso    |\tQuente     |\tNão       |\n",
        "# |Chuvoso    |\tAmena      |\tNão       |\n",
        "# |Ensolarado |\tAmena      |\tSim       |"
      ],
      "metadata": {
        "id": "0ffOAPKCoLdT"
      },
      "execution_count": null,
      "outputs": []
    },
    {
      "cell_type": "code",
      "source": [
        "import pandas as pd\n",
        "import numpy as np"
      ],
      "metadata": {
        "id": "BlAU82ybW2j7"
      },
      "execution_count": null,
      "outputs": []
    },
    {
      "cell_type": "code",
      "source": [
        "# criando um dataframe vazio\n",
        "tabela = pd.DataFrame()\n",
        "\n",
        "# povoar o dataframe\n",
        "tabela[\"tempo\"] = [\"ensolarado\", \"ensolarado\", \"chuvoso\", \"chuvoso\"]\n",
        "tabela[\"temperatura\"] = [\"quente\", \"amena\", \"quente\", \"amena\"]\n",
        "tabela[\"jogar_tenis\"] = [\"não\", \"sim\", \"não\", \"não\"]\n",
        "\n",
        "\n",
        "# imprimir a tabela para verificar se está correta\n",
        "print(\"tabela usando print():\\n\",tabela)\n",
        "print(\"\\n\")\n",
        "print(\"tabela usando display():\")\n",
        "display(tabela)"
      ],
      "metadata": {
        "id": "UO--PM6rseR-"
      },
      "execution_count": null,
      "outputs": []
    },
    {
      "cell_type": "code",
      "source": [
        "# calcular os pesos das classes\n",
        "def pesosClasses(c):\n",
        "    qtdClasses = c.value_counts()\n",
        "    classes = qtdClasses.to_dict()\n",
        "    for i in classes:\n",
        "        classes[i] = classes[i]/len(c)\n",
        "    return classes\n",
        "\n",
        "print(pesosClasses(tabela[tabela.columns[-1]]))"
      ],
      "metadata": {
        "id": "Km9olQAyurlS"
      },
      "execution_count": null,
      "outputs": []
    },
    {
      "cell_type": "code",
      "source": [
        "# calcular a entropia\n",
        "def pesoIndividuais(coluna_filho, coluna_pai):\n",
        "    classes_pai = tabela[coluna_pai].unique()\n",
        "    pesos = {}\n",
        "    for valor_filho in tabela[coluna_filho].unique():\n",
        "        filtro = tabela[tabela[coluna_filho] == valor_filho]\n",
        "        total_filho = len(filtro)\n",
        "        res = filtro[coluna_pai].value_counts(normalize=True).to_dict()\n",
        "        pesos[valor_filho] = {}\n",
        "        for classe in classes_pai:\n",
        "            pesos[valor_filho][classe] = res.get(classe, 0)\n",
        "    return pd.DataFrame(pesos).transpose()\n",
        "\n",
        "def entropia(c):\n",
        "    e = 0\n",
        "    for i in c:\n",
        "      if i == 0:\n",
        "        return 0\n",
        "      e -= i*np.log2(i)\n",
        "    return e\n",
        "\n",
        "print(entropia(pesosClasses(tabela[tabela.columns[-1]]).values()))"
      ],
      "metadata": {
        "id": "rujXFKIf0nlj"
      },
      "execution_count": null,
      "outputs": []
    },
    {
      "cell_type": "code",
      "source": [
        "# calcular pesos dos filhos\n",
        "def pesoFilho(coluna_filho):\n",
        "    return len(coluna_filho.unique())/len(tabela[tabela.columns[-1]])\n",
        "\n",
        "# print(pesoFilho(tabela[\"tempo\"]))\n",
        "# print(pesoFilho(tabela[\"temperatura\"]))"
      ],
      "metadata": {
        "id": "DF21HPsPQP53"
      },
      "execution_count": null,
      "outputs": []
    },
    {
      "cell_type": "code",
      "source": [
        "# calcular o Ganho de Informação (GI)\n",
        "def ganhoInformacao(coluna_filho):\n",
        "    entropiaPai = entropia(pesosClasses(tabela[tabela.columns[-1]]).values())\n",
        "    pesoF = pesoFilho(tabela[coluna_filho])\n",
        "    somaEntropia = 0\n",
        "    for v in tabela[c].unique():\n",
        "          somaEntropia += entropia(pesoIndividuais(c,tabela.columns[-1]).loc[v].to_dict().values())\n",
        "    somatoria = pesoF*somaEntropia\n",
        "    print(\"------------------------------------------------------------------------------------------------\")\n",
        "    print(coluna_filho)\n",
        "    print(\"entropiaPai: \",entropiaPai)\n",
        "    print(\"pesoF: \",pesoF)\n",
        "    print(\"somatoria: \",somatoria)\n",
        "    return entropiaPai - somatoria"
      ],
      "metadata": {
        "id": "YeFTRKJEXMJd"
      },
      "execution_count": null,
      "outputs": []
    },
    {
      "cell_type": "code",
      "source": [
        "def criarArvore(ramo,gi):\n",
        "    folhas = tabela[c].unique()\n",
        "    folhas = folhas.tolist()\n",
        "    folhas.append(gi)\n",
        "    arvore[ramo] = folhas"
      ],
      "metadata": {
        "id": "T0bhuQ0K5hoz"
      },
      "execution_count": null,
      "outputs": []
    },
    {
      "cell_type": "code",
      "source": [
        "# teste de cálculo do GI\n",
        "arvore = dict()\n",
        "for c in tabela[tabela.columns[:-1]]:\n",
        "    gi = ganhoInformacao(c)\n",
        "    print(\"GI: \",gi)\n",
        "    criarArvore(c,gi)"
      ],
      "metadata": {
        "id": "FxEK_IpAn0Ie"
      },
      "execution_count": null,
      "outputs": []
    },
    {
      "cell_type": "code",
      "source": [
        "print(arvore)"
      ],
      "metadata": {
        "id": "s78C0R9mAcpc"
      },
      "execution_count": null,
      "outputs": []
    },
    {
      "cell_type": "code",
      "source": [
        "for i in tabela[tabela.columns[-1]].unique():\n",
        "    print(\"------------------------------------------------\")\n",
        "    print(tabela.loc[tabela[tabela.columns[-1]] == i])"
      ],
      "metadata": {
        "id": "NU0NZv_G_2he"
      },
      "execution_count": null,
      "outputs": []
    }
  ]
}